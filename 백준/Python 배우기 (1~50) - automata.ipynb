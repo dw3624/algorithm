{
 "cells": [
  {
   "cell_type": "markdown",
   "metadata": {},
   "source": [
    "1000번 [A+B](https://www.acmicpc.net/problem/1000)\n",
    "- 문제: 두 정수 A와 B를 입력받은 다음, A+B를 출력하는 프로그램을 작성하시오.  \n",
    "- 입력: 첫째 줄에 A와 B가 주어진다. (0 < A, B < 10)  \n",
    "- 출력: 첫째 줄에 A+B를 출력한다.  "
   ]
  },
  {
   "cell_type": "code",
   "execution_count": 12,
   "metadata": {},
   "outputs": [
    {
     "name": "stdout",
     "output_type": "stream",
     "text": [
      "1 2\n",
      "3\n"
     ]
    }
   ],
   "source": [
    "a, b = map(int, input().split())\n",
    "print(a + b)"
   ]
  },
  {
   "cell_type": "markdown",
   "metadata": {},
   "source": [
    "1. input된 값을 ''을 기준으로 split\n",
    "2. int로 변환 (int: 정수형)\n",
    "3. 값 반환"
   ]
  },
  {
   "cell_type": "markdown",
   "metadata": {},
   "source": [
    "10869번 [사칙연산](https://www.acmicpc.net/problem/10869)\n",
    "- 문제: 두 정수 A와 B를 입력받은 다음, A+B를 출력하는 프로그램을 작성하시오.  \n",
    "- 입력: 첫째 줄에 A, 둘째 줄에 B가 주어진다. (0 < A, B < 10)  \n",
    "- 출력: 첫째 줄에 A+B를 출력한다.  "
   ]
  },
  {
   "cell_type": "code",
   "execution_count": 23,
   "metadata": {},
   "outputs": [
    {
     "name": "stdout",
     "output_type": "stream",
     "text": [
      "1\n",
      "2\n",
      "1 2\n"
     ]
    }
   ],
   "source": [
    "a = int(input())\n",
    "b = int(input())\n",
    "print(a,b)"
   ]
  },
  {
   "cell_type": "markdown",
   "metadata": {},
   "source": [
    "10869번 [사칙연산](https://www.acmicpc.net/problem/10869)\n",
    "- 문제:\n",
    "  - 첫째 줄에 A+B, 둘째 줄에 A-B, 셋째 줄에 A * B, 넷째 줄에 A/B, 다섯째 줄에 A%B를 출력한다.  \n",
    "- 입력:\n",
    "  - 두 자연수 A와 B가 주어진다. (1 ≤ A, B ≤ 10,000)  \n",
    "- 출력:\n",
    "  - 첫째 줄에 A+B, 둘째 줄에 A-B, 셋째 줄에 A * B, 넷째 줄에 A/B, 다섯째 줄에 A%B를 출력한다."
   ]
  },
  {
   "cell_type": "code",
   "execution_count": 1,
   "metadata": {},
   "outputs": [
    {
     "name": "stdout",
     "output_type": "stream",
     "text": [
      "4 5\n",
      "9\n",
      "-1\n",
      "20\n",
      "0\n",
      "4\n"
     ]
    }
   ],
   "source": [
    "a,b = map(int,input().split())\n",
    "print(a+b)\n",
    "print(a-b)\n",
    "print(a*b)\n",
    "print(a//b)   # a//b: 몫\n",
    "print(a%b)"
   ]
  },
  {
   "cell_type": "markdown",
   "metadata": {},
   "source": [
    "2588번 [곱셈](https://www.acmicpc.net/problem/2588)\n",
    "- 문제:\n",
    "  - (세 자리 수) × (세 자리 수)는 다음과 같은 과정을 통하여 이루어진다.  \n",
    "![img](https://www.acmicpc.net/upload/images/f5NhGHVLM4Ix74DtJrwfC97KepPl27s%20(1).png)\n",
    "  - (1)과 (2)위치에 들어갈 세 자리 자연수가 주어질 때 (3), (4), (5), (6)위치에 들어갈 값을 구하는 프로그램을 작성하시오.  \n",
    "- 입력:\n",
    "  - 첫째 줄에 (1)의 위치에 들어갈 세 자리 자연수가, 둘째 줄에 (2)의 위치에 들어갈 세자리 자연수가 주어진다.  \n",
    "- 출력:\n",
    "  - 첫째 줄부터 넷째 줄까지 차례대로 (3), (4), (5), (6)에 들어갈 값을 출력한다.  "
   ]
  },
  {
   "cell_type": "code",
   "execution_count": 31,
   "metadata": {},
   "outputs": [
    {
     "name": "stdout",
     "output_type": "stream",
     "text": [
      "472\n",
      "385\n",
      "2360\n",
      "3776\n",
      "1416\n",
      "181720\n"
     ]
    }
   ],
   "source": [
    "x = int(input())\n",
    "y = input()\n",
    "y1,y2,y3 = y[0],y[1],y[2]\n",
    "print(x * int(y3))\n",
    "print(x * int(y2))\n",
    "print(x * int(y1))\n",
    "print(x*int(y3) + x*int(y2)*10 + x*int(y1)*100)"
   ]
  },
  {
   "cell_type": "code",
   "execution_count": 34,
   "metadata": {},
   "outputs": [
    {
     "name": "stdout",
     "output_type": "stream",
     "text": [
      "475\n",
      "385\n",
      "2375\n",
      "3800\n",
      "1425\n",
      "182875\n"
     ]
    }
   ],
   "source": [
    "x = int(input())\n",
    "y = input()\n",
    "\n",
    "xy3 = x * int(y[2])\n",
    "xy2 = x * int(y[1])\n",
    "xy1 = x * int(y[0])\n",
    "xy = x * int(y)\n",
    "\n",
    "print(xy3,xy2,xy1,xy, sep='\\n')"
   ]
  },
  {
   "cell_type": "markdown",
   "metadata": {},
   "source": [
    "3046번 [R2](https://www.acmicpc.net/problem/3046)\n",
    "- 문제:\n",
    "  - 두 숫자 R1과 R2가 있을 때, 두 수의 평균 S는 (R1+R2)/2와 같다. 상근이는 정인이 생일 선물로 두 숫자 R1과 R2를 주려고 한다. 생일 파티에서 상근이는 정인이에게 이 두 숫자를 말해주고, 정인이는 이 숫자를 받아 적는다. 그리고 나서 기쁜 마음으로 1년동안 이 숫자를 외우면서 산다.  \n",
    "  \n",
    "  - 상근이는 R1과 R2를 엄청난 고민 끝에 정했다. 작년에는 R1과 R2를 까먹어서 아무 숫자나 정해서 주었기 때문에, 올해는 까먹지 않기 위해서 평균 S도 같이 기억하려고 한다.  \n",
    "  \n",
    "  - 오늘은 정인이 생일이다. 5분 후에 상근이는 생일 선물로 두 숫자 R1과 R2를 말해주어야 하지만, 안타깝게도 R2를 까먹고 말았다. 하지만 R1과 S는 기억하고 있다!  \n",
    "  \n",
    "  - 상근이를 도와 R2가 몇 인지 구하는 프로그램을 작성하시오.  \n",
    "\n",
    "- 입력:\n",
    "  - 첫째 줄에 두 정수 R1과 S가 주어진다. 두 수는 -1000보다 크거나 같고, 1000보다 작거나 같다.  \n",
    "- 출력: 첫째 줄에 R2를 출력한다."
   ]
  },
  {
   "cell_type": "code",
   "execution_count": 38,
   "metadata": {},
   "outputs": [
    {
     "name": "stdout",
     "output_type": "stream",
     "text": [
      "4 3\n",
      "2\n"
     ]
    }
   ],
   "source": [
    "r1, s = map(int,input().split())\n",
    "\n",
    "r2 = 2*s - r1\n",
    "\n",
    "print(r2)"
   ]
  },
  {
   "cell_type": "markdown",
   "metadata": {},
   "source": [
    "2163번 [초콜릿 자르기](https://www.acmicpc.net/problem/2163)  \n",
    "- 문제:  \n",
    "  - 정화는 N×M 크기의 초콜릿을 하나 가지고 있다. 초콜릿은 금이 가 있는 모양을 하고 있으며, 그 금에 의해 N×M개의 조각으로 나눠질 수 있다.\n",
    "\n",
    "  - 초콜릿의 크기가 너무 크다고 생각한 그녀는 초콜릿을 친구들과 나눠 먹기로 했다. 이를 위해서 정화는 초콜릿을 계속 쪼개서 총 N×M개의 조각으로 쪼개려고 한다. 초콜릿을 쪼갤 때에는 초콜릿 조각을 하나 들고, 적당한 위치에서 초콜릿을 쪼갠다. 초콜릿을 쪼갤 때에는 금이 가 있는 위치에서만 쪼갤 수 있다. 이와 같이 초콜릿을 쪼개면 초콜릿은 두 개의 조각으로 나눠지게 된다. 이제 다시 이 중에서 초콜릿 조각을 하나 들고, 쪼개는 과정을 반복하면 된다.\n",
    "\n",
    "  - 초콜릿을 쪼개다보면 초콜릿이 녹을 수 있기 때문에, 정화는 가급적이면 초콜릿을 쪼개는 횟수를 최소로 하려 한다. 초콜릿의 크기가 주어졌을 때, 이를 1×1 크기의 초콜릿으로 쪼개기 위한 최소 쪼개기 횟수를 구하는 프로그램을 작성하시오.\n",
    "\n",
    "- 입력: 첫째 줄에 두 정수 N, M(1≤N, M≤300)이 주어진다.\n",
    "\n",
    "- 출력: 첫째 줄에 답을 출력한다."
   ]
  },
  {
   "cell_type": "code",
   "execution_count": 1,
   "metadata": {},
   "outputs": [
    {
     "name": "stdout",
     "output_type": "stream",
     "text": [
      "2 2\n",
      "3\n"
     ]
    }
   ],
   "source": [
    "n,m = map(int, input().split())\n",
    "answer = (n-1) + (m-1) * n\n",
    "print(answer)"
   ]
  },
  {
   "cell_type": "markdown",
   "metadata": {},
   "source": [
    "2675번 [문자열 반복](https://www.acmicpc.net/problem/2675)  \n",
    "- 문제:  \n",
    "  - 문자열 S를 입력받은 후에, 각 문자를 R번 반복해 새 문자열 P를 만든 후 출력하는 프로그램을 작성하시오. 즉, 첫 번째 문자를 R번 반복하고, 두 번째 문자를 R번 반복하는 식으로 P를 만들면 된다. S에는 QR Code \"alphanumeric\" 문자만 들어있다.\n",
    "\n",
    "  - QR Code \"alphanumeric\" 문자는 0123456789ABCDEFGHIJKLMNOPQRSTUVWXYZ\\$%*+-./: 이다.\n",
    "\n",
    "- 입력:  \n",
    "  - 첫째 줄에 테스트 케이스의 개수 T(1 ≤ T ≤ 1,000)가 주어진다. 각 테스트 케이스는 반복 횟수 R(1 ≤ R ≤ 8), 문자열 S가 공백으로 구분되어 주어진다. S의 길이는 적어도 1이며, 20글자를 넘지 않는다. \n",
    "\n",
    "- 출력:  \n",
    "  - 각 테스트 케이스에 대해 P를 출력한다."
   ]
  },
  {
   "cell_type": "code",
   "execution_count": 2,
   "metadata": {},
   "outputs": [
    {
     "name": "stdout",
     "output_type": "stream",
     "text": [
      "2\n",
      "3 abc\n",
      "5 /htp\n",
      "aaabbbccc\n",
      "/////hhhhhtttttppppp\n"
     ]
    }
   ],
   "source": [
    "T = int(input())\n",
    "answer=[]\n",
    "\n",
    "for t in range(T):\n",
    "    s,r = input().split()\n",
    "    p = ''\n",
    "    for i in range(len(r)):\n",
    "        p += r[i] * int(s)\n",
    "    answer.append(p)\n",
    "\n",
    "for a in answer:\n",
    "    print(a)"
   ]
  },
  {
   "cell_type": "markdown",
   "metadata": {},
   "source": [
    "9498번 [시험 성적](https://www.acmicpc.net/problem/9498)  \n",
    "- 문제:  \n",
    "  - 시험 점수를 입력받아 90 ~ 100점은 A, 80 ~ 89점은 B, 70 ~ 79점은 C, 60 ~ 69점은 D, 나머지 점수는 F를 출력하는 프로그램을 작성하시오.\n",
    "\n",
    "- 입력:  \n",
    "  - 첫째 줄에 시험 점수가 주어진다. 시험 점수는 0보다 크거나 같고, 100보다 작거나 같은 정수이다.\n",
    "\n",
    "- 출력: 시험 성적을 출력한다."
   ]
  },
  {
   "cell_type": "code",
   "execution_count": 3,
   "metadata": {},
   "outputs": [
    {
     "name": "stdout",
     "output_type": "stream",
     "text": [
      "100\n",
      "A\n"
     ]
    }
   ],
   "source": [
    "score = int(input())\n",
    "\n",
    "if score >= 90:\n",
    "    print('A')\n",
    "elif score >= 80:\n",
    "    print('B')\n",
    "elif score >= 70:\n",
    "    print('C')\n",
    "elif score >= 60:\n",
    "    print('D')\n",
    "else:\n",
    "    print('F')"
   ]
  },
  {
   "cell_type": "markdown",
   "metadata": {},
   "source": [
    "2914번 [저작권](https://www.acmicpc.net/problem/2914)\n",
    "\n",
    "- 문제:  \n",
    "  - 창영이는 노래 여러 개를 이어서 부르는 가수이다. 유명한 노래의 비슷한 멜로디를 이어서 부르면서 언제 곡이 넘어갔는지 모르게 만드는 것이 창영이 노래의 특징이다. 이런 노래로 상업적으로 엄청난 성공을 거둔 창영이에게 큰 시련이 찾아왔다. 그것은 바로 저작권이었다.\n",
    "\n",
    "  - 창영이의 노래에 포함되어 있는 멜로디는 모두 저작권이 다른 사람에게 있는 노래이다. 따라서, 이 음악으로 상업적인 활동을 했기 때문에, 저작권 협회에 저작권료를 내야한다.\n",
    "\n",
    "  - 창영이는 자신의 앨범에 포함되어있는 저작권이 있는 멜로디의 평균값을 구해보기로 했다. 이 값은 아래와 같이 구할 수 있다.\n",
    "\n",
    "  - (창영이 앨범에 수록된 곡에 포함되어 있는 저작권이 있는 멜로디의 개수) / (앨범에 수록된 곡의 개수)\n",
    "\n",
    "  - 이때, 평균값은 항상 올림을 해서 정수로 만들어야 한다. 예를 들어, 창영이의 1집 앨범 \"영창에서 영원히 영창피아노를 친다\"에 총 38개 곡이 수록되어 있고, 이 앨범에 저작권이 있는 멜로디가 894개가 있다면, 평균값은 23.53이 되고 올림해서 24가 된다.\n",
    "\n",
    "  - 매니저 강산이는 얼마나 많은 사람에게 저작권료를 주어야 하는지 궁금해졌다. 강산이가 알고 있는 정보는 앨범에 수록되어 있는 곡의 개수와 위에서 구한 평균값이다. 이때, 적어도 몇 곡이 저작권이 있는 멜로디인지 구하는 프로그램을 작성하시오.\n",
    "\n",
    "- 입력:  \n",
    "  - 첫째 줄에 앨범에 수록된 곡의 개수 A와 평균값 I가 주어진다. (1 ≤ A, I ≤ 100)\n",
    "\n",
    "- 출력:  \n",
    "  - 첫째 줄에 적어도 몇 곡이 저작권이 있는 멜로디인지 출력한다."
   ]
  },
  {
   "cell_type": "code",
   "execution_count": 4,
   "metadata": {},
   "outputs": [
    {
     "name": "stdout",
     "output_type": "stream",
     "text": [
      "38 24\n",
      "875\n"
     ]
    }
   ],
   "source": [
    "a,i = map(int,input().split())\n",
    "print(a * (i-1) + 1)"
   ]
  },
  {
   "cell_type": "markdown",
   "metadata": {},
   "source": [
    "2935번 [소음](https://www.acmicpc.net/problem/2935)\n",
    "\n",
    "- 문제:  \n",
    "  - 수업 시간에 떠드는 두 학생이 있다. 두 학생은 수업에 집중하는 대신에 글로벌 경제 위기에 대해서 토론하고 있었다. 토론이 점점 과열되면서 두 학생은 목소리를 높였고, 결국 선생님은 크게 분노하였다.\n",
    "\n",
    "  - 이렇게 학생들이 수업 시간에 떠드는 문제는 어떻게 해결해야 할까?\n",
    "\n",
    "  - 얼마전에 초등학교 선생님으로 취직한 상근이는 이 문제를 수학 문제로 해결한다. 학생들을 진정시키기 위해 칠판에 수학 문제를 써주고, 아이들에게 조용히 이 문제를 풀게 한다. 학생들이 문제를 금방 풀고 다시 떠드는 것을 방지하기 위해서, 숫자를 매우 크게 한다.\n",
    "\n",
    "  - 아직 초등학교이기 때문에, 학생들은 덧셈과 곱셈만 배웠다. 또, 아직 10의 제곱꼴을 제외한 다른 수는 학교에서 배우지 않았기 때문에, 선생님이 써주는 수는 모두 10의 제곱 형태이다.\n",
    "\n",
    "  - 쉬는 시간까지 문제를 푸는 것을 막기 위해서, 선생님이 써주는 숫자는 최대 100자리이다.\n",
    "\n",
    "  - 칠판에 쓰여 있는 문제가 주어졌을 때, 결과를 구하는 프로그램을 작성하시오.\n",
    "\n",
    "- 입력:  \n",
    "  - 첫째 줄에 양의 정수 A가 주어진다.  \n",
    "  - 둘째 줄에 연산자 + 또는 *가 주어진다.  \n",
    "  - 셋째 줄에 양의 정수 B가 주어진다.  \n",
    "  - A와 B는 모두 10의 제곱 형태이고, 길이는 최대 100자리이다.\n",
    "\n",
    "- 출력:  \n",
    "  - 첫째 줄에 결과를 출력한다. 결과는 A+B 또는 A*B이며, 입력에서 주어지는 연산자에 의해 결정된다. "
   ]
  },
  {
   "cell_type": "code",
   "execution_count": 5,
   "metadata": {},
   "outputs": [
    {
     "name": "stdout",
     "output_type": "stream",
     "text": [
      "100\n",
      "*\n",
      "1000\n",
      "100000\n"
     ]
    }
   ],
   "source": [
    "a = int(input())\n",
    "x = input()\n",
    "b = int(input())\n",
    "\n",
    "if x == '*':\n",
    "    print(a*b)\n",
    "elif x == '+':\n",
    "    print(a+b)"
   ]
  },
  {
   "cell_type": "markdown",
   "metadata": {},
   "source": [
    "5355번 [화성 수학](https://www.acmicpc.net/problem/5355)\n",
    "\n",
    "- 문제:  \n",
    "  - 겨울 방학에 달에 다녀온 상근이는 여름 방학 때는 화성에 갔다 올 예정이다. (3996번) 화성에서는 지구와는 조금 다른 연산자 @, %, #을 사용한다. @는 3을 곱하고, %는 5를 더하며, #는 7을 빼는 연산자이다. 따라서, 화성에서는 수학 식의 가장 앞에 수가 하나 있고, 그 다음에는 연산자가 있다.\n",
    "\n",
    "- 입력:  \n",
    "  - 첫째 줄에 테스트 케이스의 개수 T가 주어진다. 다음 줄에는 화성 수학식이 한 줄에 하나씩 주어진다. 입력으로 주어지는 수는 정수이거나 소수 첫째 자리까지 주어지며, 0 이상 100 이하이다. 연산자는 최대 3개 주어진다.\n",
    "\n",
    "- 출력:  \n",
    "  - 각 테스트 케이스에 대해서, 화성 수학식의 결과를 계산한 다음에, 소수점 둘째 자리까지 출력한다."
   ]
  },
  {
   "cell_type": "code",
   "execution_count": 6,
   "metadata": {},
   "outputs": [
    {
     "name": "stdout",
     "output_type": "stream",
     "text": [
      "3\n",
      "3 @ %\n",
      "10.4 # % @\n",
      "8 #\n",
      "14.00\n",
      "25.20\n",
      "1.00\n"
     ]
    }
   ],
   "source": [
    "T = int(input())\n",
    "answer = []\n",
    "\n",
    "for _ in range(T):\n",
    "    mars = list(map(str,input().split()))\n",
    "    a = 0\n",
    "    \n",
    "    for i in range(len(mars)):\n",
    "        if a == 0:\n",
    "            a += float(mars[i])\n",
    "        else:\n",
    "            if mars[i] == '@':\n",
    "                a *= 3\n",
    "            elif mars[i] == '%':\n",
    "                a += 5\n",
    "            elif mars[i] == '#':\n",
    "                a -=7\n",
    "    \n",
    "    answer.append(a)        \n",
    "    \n",
    "for a in answer:\n",
    "    print('%0.2f' % a)"
   ]
  },
  {
   "cell_type": "markdown",
   "metadata": {},
   "source": [
    "10699번 [오늘 날짜](https://www.acmicpc.net/problem/10699)\n",
    "\n",
    "- 문제: 서울의 오늘 날짜를 출력하는 프로그램을 작성하시오.  \n",
    "- 입력: 입력은 없다.  \n",
    "- 출력: 서울의 오늘 날짜를 \"YYYY-MM-DD\" 형식으로 출력한다.  "
   ]
  },
  {
   "cell_type": "code",
   "execution_count": 9,
   "metadata": {},
   "outputs": [
    {
     "name": "stdout",
     "output_type": "stream",
     "text": [
      "2021-05-24\n",
      "2021-05-24\n"
     ]
    }
   ],
   "source": [
    "import datetime\n",
    "\n",
    "print(datetime.date.today().isoformat())\n",
    "## or \n",
    "print(str(datetime.datetime.now())[:10])"
   ]
  },
  {
   "cell_type": "markdown",
   "metadata": {},
   "source": [
    "2525번 [오븐시계](https://www.acmicpc.net/problem/2525)\n",
    "\n",
    "- 문제:  \n",
    "  - KOI 전자에서는 건강에 좋고 맛있는 훈제오리구이 요리를 간편하게 만드는 인공지능 오븐을 개발하려고 한다. 인공지능 오븐을 사용하는 방법은 적당한 양의 오리 훈제 재료를 인공지능 오븐에 넣으면 된다. 그러면 인공지능 오븐은 오븐구이가 끝나는 시간을 분 단위로 자동적으로 계산한다. \n",
    "\n",
    "  - 또한, KOI 전자의 인공지능 오븐 앞면에는 사용자에게 훈제오리구이 요리가 끝나는 시각을 알려 주는 디지털 시계가 있다. \n",
    "\n",
    "  - 훈제오리구이를 시작하는 시각과 오븐구이를 하는 데 필요한 시간이 분단위로 주어졌을 때, 오븐구이가 끝나는 시각을 계산하는 프로그램을 작성하시오.\n",
    "\n",
    "- 입력:  \n",
    "  - 첫째 줄에는 현재 시각이 나온다. 현재 시각은 시 A (0<=A<=23) 와 분 B (0<=B<=59)가 정수로 빈칸을 사이에 두고 순서대로 주어진다. 두 번째 줄에는 요리하는 데 필요한 시간 C (0<=C<=1,000)가 분 단위로 주어진다. \n",
    "\n",
    "- 출력:  \n",
    "  - 첫째 줄에 종료되는 시각의 시와 분을 공백을 사이에 두고 출력한다. (단, 시는 0부터 23까지의 정수, 분은 0부터 59까지의 정수이다. 디지털 시계는 23시 59분에서 1분이 지나면 0시 0분이 된다.)"
   ]
  },
  {
   "cell_type": "code",
   "execution_count": 10,
   "metadata": {},
   "outputs": [
    {
     "name": "stdout",
     "output_type": "stream",
     "text": [
      "14 30\n",
      "20\n",
      "14 50\n"
     ]
    }
   ],
   "source": [
    "a_b = input()\n",
    "c = int(input())\n",
    "\n",
    "import datetime\n",
    "start = datetime.datetime.strptime(a_b,'%H %M')\n",
    "fin = start + datetime.timedelta(minutes=c)\n",
    "fin = fin.strftime('%H %M')\n",
    "\n",
    "print(fin)"
   ]
  },
  {
   "cell_type": "markdown",
   "metadata": {},
   "source": [
    "2530번 [인공지능 시계](https://www.acmicpc.net/problem/2530)\n",
    "\n",
    "- 문제:  \n",
    "  - KOI 전자에서는 건강에 좋고 맛있는 훈제오리구이 요리를 간편하게 만드는 인공지능 오븐을 개발하려고 한다. 인공지능 오븐을 사용하는 방법은 적당한 양의 오리 훈제 재료를 인공지능 오븐에 넣으면 된다. 그러면 인공지능 오븐은 오븐구이가 끝나는 시간을 초 단위로 자동적으로 계산한다. \n",
    "\n",
    "  - 또한, KOI 전자의 인공지능 오븐 앞면에는 사용자에게 훈제오리구이 요리가 끝나는 시각을 알려 주는 디지털 시계가 있다.  \n",
    "\n",
    "  - 훈제오리구이를 시작하는 시각과 오븐구이를 하는 데 필요한 시간이 초 단위로 주어졌을 때, 오븐구이가 끝나는 시각을 계산하는 프로그램을 작성하시오.\n",
    "\n",
    "- 입력:  \n",
    "  - 첫째 줄에는 현재 시각이 나온다. 현재 시각은 시 A (0 ≤ A ≤ 23), 분 B (0 ≤ B ≤ 59)와 초 C (0 ≤ C ≤ 59)가 정수로 빈칸을 사이에 두고 순서대로 주어진다. 두 번째 줄에는 요리하는 데 필요한 시간 D (0 ≤ D ≤ 500,000)가 초 단위로 주어진다.\n",
    "\n",
    "- 출력:  \n",
    "  - 첫째 줄에 종료되는 시각의 시, 분, 초을 공백을 사이에 두고 출력한다. (단, 시는 0부터 23까지의 정수이며, 분, 초는 0부터 59까지의 정수이다. 디지털 시계는 23시 59분 59초에서 1초가 지나면 0시 0분 0초가 된다.)"
   ]
  },
  {
   "cell_type": "code",
   "execution_count": 11,
   "metadata": {},
   "outputs": [
    {
     "name": "stdout",
     "output_type": "stream",
     "text": [
      "14 30 0\n",
      "200\n",
      "14 33 20\n"
     ]
    }
   ],
   "source": [
    "a_b_c = str(input())\n",
    "d = int(input())\n",
    "\n",
    "import datetime\n",
    "start = datetime.datetime.strptime(a_b_c,'%H %M %S')\n",
    "fin = start + datetime.timedelta(seconds = d)\n",
    "fin = fin.strftime('%H %M %S')\n",
    "\n",
    "print(fin)"
   ]
  },
  {
   "cell_type": "markdown",
   "metadata": {},
   "source": [
    "11021번 [A+B - 7](https://www.acmicpc.net/problem/11021)  \n",
    "\n",
    "- 문제:  \n",
    "  - 두 정수 A와 B를 입력받은 다음, A+B를 출력하는 프로그램을 작성하시오.\n",
    "\n",
    "- 입력:  \n",
    "  - 첫째 줄에 테스트 케이스의 개수 T가 주어진다.\n",
    "\n",
    "  - 각 테스트 케이스는 한 줄로 이루어져 있으며, 각 줄에 A와 B가 주어진다. (0 < A, B < 10)\n",
    "\n",
    "- 출력:  \n",
    "  - 각 테스트 케이스마다 \"Case #x: \"를 출력한 다음, A+B를 출력한다. 테스트 케이스 번호는 1부터 시작한다."
   ]
  },
  {
   "cell_type": "code",
   "execution_count": 13,
   "metadata": {},
   "outputs": [
    {
     "name": "stdout",
     "output_type": "stream",
     "text": [
      "5\n",
      "1 1\n",
      "2 3\n",
      "3 4\n",
      "9 8\n",
      "5 6\n",
      "Case #1: 2\n",
      "Case #2: 5\n",
      "Case #3: 7\n",
      "Case #4: 17\n",
      "Case #5: 11\n"
     ]
    }
   ],
   "source": [
    "T = int(input())\n",
    "ran = range(0,T)\n",
    "answer = []\n",
    "for i in ran:\n",
    "    x,y = map(int,input().split())\n",
    "    answer.append(x+y)\n",
    "\n",
    "for i in ran:\n",
    "    print('Case #' + str(i+1) + ': ' + str(answer[i]))"
   ]
  },
  {
   "cell_type": "markdown",
   "metadata": {},
   "source": [
    "11022번 [A+B - 8](https://www.acmicpc.net/problem/11022)\n",
    "\n",
    "- 문제:  \n",
    "  - 두 정수 A와 B를 입력받은 다음, A+B를 출력하는 프로그램을 작성하시오.\n",
    "\n",
    "- 입력:  \n",
    "  - 첫째 줄에 테스트 케이스의 개수 T가 주어진다.\n",
    "\n",
    "  - 각 테스트 케이스는 한 줄로 이루어져 있으며, 각 줄에 A와 B가 주어진다. (0 < A, B < 10)\n",
    "\n",
    "- 출력:  \n",
    "  - 각 테스트 케이스마다 \"Case #x: A + B = C\" 형식으로 출력한다. x는 테스트 케이스 번호이고 1부터 시작하며, C는 A+B이다."
   ]
  },
  {
   "cell_type": "code",
   "execution_count": 14,
   "metadata": {},
   "outputs": [
    {
     "name": "stdout",
     "output_type": "stream",
     "text": [
      "5\n",
      "1 1\n",
      "2 3 \n",
      "3 4\n",
      "9 8 \n",
      "5 2\n",
      "Case #1: 1 + 1 = 2\n",
      "Case #2: 2 + 3 = 5\n",
      "Case #3: 3 + 4 = 7\n",
      "Case #4: 9 + 8 = 17\n",
      "Case #5: 5 + 2 = 7\n"
     ]
    }
   ],
   "source": [
    "T = int(input())\n",
    "X = []\n",
    "Y = []\n",
    "answer = []\n",
    "\n",
    "for i in range(T):\n",
    "    x,y = map(int,input().split())\n",
    "    X.append(x)\n",
    "    Y.append(y)\n",
    "    answer.append(x+y)\n",
    "\n",
    "for i in ran:\n",
    "    print('Case #' + str(i+1) + ': '\n",
    "         + str(X[i]) + ' + ' + str(Y[i]) + ' = ' + str(answer[i]))"
   ]
  },
  {
   "cell_type": "markdown",
   "metadata": {},
   "source": [
    "10699 [오늘 날짜](https://www.acmicpc.net/problem/10699)"
   ]
  },
  {
   "cell_type": "code",
   "execution_count": 4,
   "metadata": {
    "scrolled": true
   },
   "outputs": [
    {
     "name": "stdout",
     "output_type": "stream",
     "text": [
      "2021-07-20\n"
     ]
    }
   ],
   "source": [
    "import datetime\n",
    "print(datetime.datetime.today().strftime('%Y-%m-%d'))"
   ]
  },
  {
   "cell_type": "markdown",
   "metadata": {},
   "source": [
    "7287 [등록](https://www.acmicpc.net/problem/7287)"
   ]
  },
  {
   "cell_type": "code",
   "execution_count": 14,
   "metadata": {},
   "outputs": [
    {
     "name": "stdout",
     "output_type": "stream",
     "text": [
      "2\n",
      "dw3624\n"
     ]
    }
   ],
   "source": [
    "print('2\\ndw3624')"
   ]
  },
  {
   "cell_type": "markdown",
   "metadata": {},
   "source": [
    "2525 [오븐 시계](https://www.acmicpc.net/problem/2525)"
   ]
  },
  {
   "cell_type": "code",
   "execution_count": 29,
   "metadata": {},
   "outputs": [
    {
     "name": "stdout",
     "output_type": "stream",
     "text": [
      "23 12\n",
      "185\n",
      "2 17\n"
     ]
    }
   ],
   "source": [
    "hour,minute = map(int,input().split(' '))\n",
    "time = int(input())\n",
    "end_minute = time + minute\n",
    "\n",
    "if end_minute >= 60:\n",
    "    hour += end_minute // 60\n",
    "    end_minute = end_minute % 60\n",
    "    if hour >= 24:\n",
    "        hour -= 24\n",
    "print(f'{hour} {end_minute}')"
   ]
  },
  {
   "cell_type": "code",
   "execution_count": 34,
   "metadata": {},
   "outputs": [
    {
     "name": "stdout",
     "output_type": "stream",
     "text": [
      "23 48\n",
      "25\n",
      "0 13\n"
     ]
    }
   ],
   "source": [
    "hour, minute = map(int,input().split())\n",
    "time = int(input())\n",
    "\n",
    "hour += time // 60\n",
    "minute += time % 60\n",
    "\n",
    "if minute >= 60:\n",
    "    hour += 1\n",
    "    minute -= 60\n",
    "\n",
    "if hour >= 24 :\n",
    "    hour -= 24\n",
    "\n",
    "print(f'{hour} {minute}')"
   ]
  }
 ],
 "metadata": {
  "kernelspec": {
   "display_name": "Python 3 (ipykernel)",
   "language": "python",
   "name": "python3"
  },
  "language_info": {
   "codemirror_mode": {
    "name": "ipython",
    "version": 3
   },
   "file_extension": ".py",
   "mimetype": "text/x-python",
   "name": "python",
   "nbconvert_exporter": "python",
   "pygments_lexer": "ipython3",
   "version": "3.9.6"
  },
  "toc": {
   "base_numbering": 1,
   "nav_menu": {},
   "number_sections": true,
   "sideBar": true,
   "skip_h1_title": false,
   "title_cell": "Table of Contents",
   "title_sidebar": "Contents",
   "toc_cell": false,
   "toc_position": {},
   "toc_section_display": true,
   "toc_window_display": false
  }
 },
 "nbformat": 4,
 "nbformat_minor": 4
}
