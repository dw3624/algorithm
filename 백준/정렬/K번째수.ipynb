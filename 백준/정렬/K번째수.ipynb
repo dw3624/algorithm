{
 "cells": [
  {
   "cell_type": "code",
   "execution_count": 26,
   "metadata": {},
   "outputs": [],
   "source": [
    "def solution(array, commands):\n",
    "    answer = []\n",
    "    \n",
    "    for command in commands:\n",
    "        # commands에서 list를 순서대로 뽑는다\n",
    "        i,j,k = command[0],command[1],command[2]   # 각각 assign\n",
    "        result = array[i-1:j]   # 슬라이싱\n",
    "        result.sort()   # 오름차순으로 정렬\n",
    "        answer.append(result[k-1])  # 정답 리스트에 값 추가\n",
    "    return answer"
   ]
  },
  {
   "cell_type": "code",
   "execution_count": 18,
   "metadata": {},
   "outputs": [],
   "source": [
    "array = [1, 5, 2, 6, 3, 7, 4]\n",
    "commands = [[2, 5, 3], [4, 4, 1], [1, 7, 3]]"
   ]
  },
  {
   "cell_type": "code",
   "execution_count": 27,
   "metadata": {},
   "outputs": [
    {
     "data": {
      "text/plain": [
       "[5, 6, 3]"
      ]
     },
     "execution_count": 27,
     "metadata": {},
     "output_type": "execute_result"
    }
   ],
   "source": [
    "solution(array, commands)"
   ]
  },
  {
   "cell_type": "code",
   "execution_count": null,
   "metadata": {},
   "outputs": [],
   "source": []
  },
  {
   "cell_type": "code",
   "execution_count": 38,
   "metadata": {},
   "outputs": [
    {
     "name": "stdout",
     "output_type": "stream",
     "text": [
      "[2, 6, 3] [5, 2, 6, 3] [5, 2, 6]\n"
     ]
    }
   ],
   "source": [
    "array = [1, 5, 2, 6, 3, 7, 4]\n",
    "i,j,k = 2,5,3\n",
    "a=array[i:j]\n",
    "b=array[i-1:j]\n",
    "c=array[i-1:j-1]\n",
    "print(a,b,c)"
   ]
  },
  {
   "cell_type": "markdown",
   "metadata": {},
   "source": [
    "a[start : end : step]  \n",
    " - 각각 start, end, step 모두 양수와 음수를 가질 수 있음\n",
    " - start : 슬라이싱을 시작할 위치\n",
    " - end : 슬라이싱을 끝낼 위치, end는 포함하지 않음!!!\n",
    " - step : stride(보폭), 몇개씩 끊어서 가져올지와 방향을 결정"
   ]
  }
 ],
 "metadata": {
  "kernelspec": {
   "display_name": "Python 3",
   "language": "python",
   "name": "python3"
  },
  "language_info": {
   "codemirror_mode": {
    "name": "ipython",
    "version": 3
   },
   "file_extension": ".py",
   "mimetype": "text/x-python",
   "name": "python",
   "nbconvert_exporter": "python",
   "pygments_lexer": "ipython3",
   "version": "3.8.5"
  }
 },
 "nbformat": 4,
 "nbformat_minor": 4
}
